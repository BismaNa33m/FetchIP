{
 "cells": [
  {
   "cell_type": "code",
   "execution_count": 19,
   "id": "4458cbbc",
   "metadata": {},
   "outputs": [],
   "source": [
    "from socket import gethostbyname,gethostname"
   ]
  },
  {
   "cell_type": "code",
   "execution_count": null,
   "id": "5ef3306b",
   "metadata": {},
   "outputs": [],
   "source": [
    "#fetching IP Address of the System\n",
    "print(gethostbyname(gethostname()))"
   ]
  },
  {
   "cell_type": "code",
   "execution_count": null,
   "id": "7ebf51ed",
   "metadata": {},
   "outputs": [],
   "source": [
    "from socket import socket,AF_INET,SOCK_DGRAM\n",
    "s=socket(AF_INET,SOCK_DGRAM)\n",
    "s.connect((\"8.8.8.8\",80))\n",
    "print(s.getsockname()[0])"
   ]
  },
  {
   "cell_type": "code",
   "execution_count": null,
   "id": "71380e9b",
   "metadata": {},
   "outputs": [],
   "source": []
  },
  {
   "cell_type": "code",
   "execution_count": null,
   "id": "fcdd043a",
   "metadata": {},
   "outputs": [],
   "source": []
  },
  {
   "cell_type": "code",
   "execution_count": null,
   "id": "054249d2",
   "metadata": {},
   "outputs": [],
   "source": []
  },
  {
   "cell_type": "code",
   "execution_count": null,
   "id": "825bf806",
   "metadata": {},
   "outputs": [],
   "source": []
  }
 ],
 "metadata": {
  "kernelspec": {
   "display_name": "Python 3",
   "language": "python",
   "name": "python3"
  },
  "language_info": {
   "codemirror_mode": {
    "name": "ipython",
    "version": 3
   },
   "file_extension": ".py",
   "mimetype": "text/x-python",
   "name": "python",
   "nbconvert_exporter": "python",
   "pygments_lexer": "ipython3",
   "version": "3.8.8"
  }
 },
 "nbformat": 4,
 "nbformat_minor": 5
}
