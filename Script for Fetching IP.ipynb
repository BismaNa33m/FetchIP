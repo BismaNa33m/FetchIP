{
 "cells": [
  {
   "cell_type": "code",
   "execution_count": 4,
   "id": "f4afd8a8",
   "metadata": {},
   "outputs": [],
   "source": [
    "from socket import gethostbyname,gethostname"
   ]
  },
  {
   "cell_type": "code",
   "execution_count": 5,
   "id": "c6d71653",
   "metadata": {},
   "outputs": [
    {
     "name": "stdout",
     "output_type": "stream",
     "text": [
      "192.168.118.1\n"
     ]
    }
   ],
   "source": [
    "#fetching IP Address of the System\n",
    "print(gethostbyname(gethostname()))"
   ]
  },
  {
   "cell_type": "code",
   "execution_count": 7,
   "id": "e9890492",
   "metadata": {},
   "outputs": [],
   "source": [
    "from socket import socket,AF_INET,SOCK_DGRAM\n",
    "s=socket(AF_INET,SOCK_DGRAM)\n"
   ]
  },
  {
   "cell_type": "code",
   "execution_count": 17,
   "id": "6b51a192",
   "metadata": {},
   "outputs": [],
   "source": [
    "s.connect((\"8.8.8.8\",80))"
   ]
  },
  {
   "cell_type": "code",
   "execution_count": 18,
   "id": "e0714ff3",
   "metadata": {},
   "outputs": [
    {
     "name": "stdout",
     "output_type": "stream",
     "text": [
      "192.168.100.31\n"
     ]
    }
   ],
   "source": [
    "print(s.getsockname()[0])"
   ]
  },
  {
   "cell_type": "code",
   "execution_count": null,
   "id": "8186e223",
   "metadata": {},
   "outputs": [],
   "source": []
  }
 ],
 "metadata": {
  "kernelspec": {
   "display_name": "Python 3",
   "language": "python",
   "name": "python3"
  },
  "language_info": {
   "codemirror_mode": {
    "name": "ipython",
    "version": 3
   },
   "file_extension": ".py",
   "mimetype": "text/x-python",
   "name": "python",
   "nbconvert_exporter": "python",
   "pygments_lexer": "ipython3",
   "version": "3.8.8"
  }
 },
 "nbformat": 4,
 "nbformat_minor": 5
}
